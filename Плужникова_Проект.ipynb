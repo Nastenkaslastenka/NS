{
  "nbformat": 4,
  "nbformat_minor": 0,
  "metadata": {
    "colab": {
      "provenance": [],
      "authorship_tag": "ABX9TyPjtmJ217G+ksGUz1G9iLfx",
      "include_colab_link": true
    },
    "kernelspec": {
      "name": "python3",
      "display_name": "Python 3"
    },
    "language_info": {
      "name": "python"
    }
  },
  "cells": [
    {
      "cell_type": "markdown",
      "metadata": {
        "id": "view-in-github",
        "colab_type": "text"
      },
      "source": [
        "<a href=\"https://colab.research.google.com/github/Nastenkaslastenka/NS/blob/main/%D0%9F%D0%BB%D1%83%D0%B6%D0%BD%D0%B8%D0%BA%D0%BE%D0%B2%D0%B0_%D0%9F%D1%80%D0%BE%D0%B5%D0%BA%D1%82.ipynb\" target=\"_parent\"><img src=\"https://colab.research.google.com/assets/colab-badge.svg\" alt=\"Open In Colab\"/></a>"
      ]
    },
    {
      "cell_type": "code",
      "source": [
        "import torch\n",
        "import torch.nn as nn\n",
        "import torch.optim as optim\n",
        "from torch.utils.data import DataLoader\n",
        "from torchvision import datasets, transforms\n",
        "from sklearn.model_selection import train_test_split\n",
        "import numpy as np\n",
        "!pip install torchmetrics\n",
        "!pip install optuna\n",
        "from tqdm import tqdm"
      ],
      "metadata": {
        "colab": {
          "base_uri": "https://localhost:8080/"
        },
        "id": "jyi33afi-8r1",
        "outputId": "820fa3a9-acd0-4bdf-bcf2-1637ec35c320"
      },
      "execution_count": 4,
      "outputs": [
        {
          "output_type": "stream",
          "name": "stdout",
          "text": [
            "Collecting torchmetrics\n",
            "  Downloading torchmetrics-1.8.2-py3-none-any.whl.metadata (22 kB)\n",
            "Requirement already satisfied: numpy>1.20.0 in /usr/local/lib/python3.12/dist-packages (from torchmetrics) (2.0.2)\n",
            "Requirement already satisfied: packaging>17.1 in /usr/local/lib/python3.12/dist-packages (from torchmetrics) (25.0)\n",
            "Requirement already satisfied: torch>=2.0.0 in /usr/local/lib/python3.12/dist-packages (from torchmetrics) (2.8.0+cu126)\n",
            "Collecting lightning-utilities>=0.8.0 (from torchmetrics)\n",
            "  Downloading lightning_utilities-0.15.2-py3-none-any.whl.metadata (5.7 kB)\n",
            "Requirement already satisfied: setuptools in /usr/local/lib/python3.12/dist-packages (from lightning-utilities>=0.8.0->torchmetrics) (75.2.0)\n",
            "Requirement already satisfied: typing_extensions in /usr/local/lib/python3.12/dist-packages (from lightning-utilities>=0.8.0->torchmetrics) (4.15.0)\n",
            "Requirement already satisfied: filelock in /usr/local/lib/python3.12/dist-packages (from torch>=2.0.0->torchmetrics) (3.20.0)\n",
            "Requirement already satisfied: sympy>=1.13.3 in /usr/local/lib/python3.12/dist-packages (from torch>=2.0.0->torchmetrics) (1.13.3)\n",
            "Requirement already satisfied: networkx in /usr/local/lib/python3.12/dist-packages (from torch>=2.0.0->torchmetrics) (3.5)\n",
            "Requirement already satisfied: jinja2 in /usr/local/lib/python3.12/dist-packages (from torch>=2.0.0->torchmetrics) (3.1.6)\n",
            "Requirement already satisfied: fsspec in /usr/local/lib/python3.12/dist-packages (from torch>=2.0.0->torchmetrics) (2025.3.0)\n",
            "Requirement already satisfied: nvidia-cuda-nvrtc-cu12==12.6.77 in /usr/local/lib/python3.12/dist-packages (from torch>=2.0.0->torchmetrics) (12.6.77)\n",
            "Requirement already satisfied: nvidia-cuda-runtime-cu12==12.6.77 in /usr/local/lib/python3.12/dist-packages (from torch>=2.0.0->torchmetrics) (12.6.77)\n",
            "Requirement already satisfied: nvidia-cuda-cupti-cu12==12.6.80 in /usr/local/lib/python3.12/dist-packages (from torch>=2.0.0->torchmetrics) (12.6.80)\n",
            "Requirement already satisfied: nvidia-cudnn-cu12==9.10.2.21 in /usr/local/lib/python3.12/dist-packages (from torch>=2.0.0->torchmetrics) (9.10.2.21)\n",
            "Requirement already satisfied: nvidia-cublas-cu12==12.6.4.1 in /usr/local/lib/python3.12/dist-packages (from torch>=2.0.0->torchmetrics) (12.6.4.1)\n",
            "Requirement already satisfied: nvidia-cufft-cu12==11.3.0.4 in /usr/local/lib/python3.12/dist-packages (from torch>=2.0.0->torchmetrics) (11.3.0.4)\n",
            "Requirement already satisfied: nvidia-curand-cu12==10.3.7.77 in /usr/local/lib/python3.12/dist-packages (from torch>=2.0.0->torchmetrics) (10.3.7.77)\n",
            "Requirement already satisfied: nvidia-cusolver-cu12==11.7.1.2 in /usr/local/lib/python3.12/dist-packages (from torch>=2.0.0->torchmetrics) (11.7.1.2)\n",
            "Requirement already satisfied: nvidia-cusparse-cu12==12.5.4.2 in /usr/local/lib/python3.12/dist-packages (from torch>=2.0.0->torchmetrics) (12.5.4.2)\n",
            "Requirement already satisfied: nvidia-cusparselt-cu12==0.7.1 in /usr/local/lib/python3.12/dist-packages (from torch>=2.0.0->torchmetrics) (0.7.1)\n",
            "Requirement already satisfied: nvidia-nccl-cu12==2.27.3 in /usr/local/lib/python3.12/dist-packages (from torch>=2.0.0->torchmetrics) (2.27.3)\n",
            "Requirement already satisfied: nvidia-nvtx-cu12==12.6.77 in /usr/local/lib/python3.12/dist-packages (from torch>=2.0.0->torchmetrics) (12.6.77)\n",
            "Requirement already satisfied: nvidia-nvjitlink-cu12==12.6.85 in /usr/local/lib/python3.12/dist-packages (from torch>=2.0.0->torchmetrics) (12.6.85)\n",
            "Requirement already satisfied: nvidia-cufile-cu12==1.11.1.6 in /usr/local/lib/python3.12/dist-packages (from torch>=2.0.0->torchmetrics) (1.11.1.6)\n",
            "Requirement already satisfied: triton==3.4.0 in /usr/local/lib/python3.12/dist-packages (from torch>=2.0.0->torchmetrics) (3.4.0)\n",
            "Requirement already satisfied: mpmath<1.4,>=1.1.0 in /usr/local/lib/python3.12/dist-packages (from sympy>=1.13.3->torch>=2.0.0->torchmetrics) (1.3.0)\n",
            "Requirement already satisfied: MarkupSafe>=2.0 in /usr/local/lib/python3.12/dist-packages (from jinja2->torch>=2.0.0->torchmetrics) (3.0.3)\n",
            "Downloading torchmetrics-1.8.2-py3-none-any.whl (983 kB)\n",
            "\u001b[2K   \u001b[90m━━━━━━━━━━━━━━━━━━━━━━━━━━━━━━━━━━━━━━━━\u001b[0m \u001b[32m983.2/983.2 kB\u001b[0m \u001b[31m38.7 MB/s\u001b[0m eta \u001b[36m0:00:00\u001b[0m\n",
            "\u001b[?25hDownloading lightning_utilities-0.15.2-py3-none-any.whl (29 kB)\n",
            "Installing collected packages: lightning-utilities, torchmetrics\n",
            "Successfully installed lightning-utilities-0.15.2 torchmetrics-1.8.2\n",
            "Collecting optuna\n",
            "  Downloading optuna-4.5.0-py3-none-any.whl.metadata (17 kB)\n",
            "Requirement already satisfied: alembic>=1.5.0 in /usr/local/lib/python3.12/dist-packages (from optuna) (1.17.0)\n",
            "Collecting colorlog (from optuna)\n",
            "  Downloading colorlog-6.10.1-py3-none-any.whl.metadata (11 kB)\n",
            "Requirement already satisfied: numpy in /usr/local/lib/python3.12/dist-packages (from optuna) (2.0.2)\n",
            "Requirement already satisfied: packaging>=20.0 in /usr/local/lib/python3.12/dist-packages (from optuna) (25.0)\n",
            "Requirement already satisfied: sqlalchemy>=1.4.2 in /usr/local/lib/python3.12/dist-packages (from optuna) (2.0.44)\n",
            "Requirement already satisfied: tqdm in /usr/local/lib/python3.12/dist-packages (from optuna) (4.67.1)\n",
            "Requirement already satisfied: PyYAML in /usr/local/lib/python3.12/dist-packages (from optuna) (6.0.3)\n",
            "Requirement already satisfied: Mako in /usr/local/lib/python3.12/dist-packages (from alembic>=1.5.0->optuna) (1.3.10)\n",
            "Requirement already satisfied: typing-extensions>=4.12 in /usr/local/lib/python3.12/dist-packages (from alembic>=1.5.0->optuna) (4.15.0)\n",
            "Requirement already satisfied: greenlet>=1 in /usr/local/lib/python3.12/dist-packages (from sqlalchemy>=1.4.2->optuna) (3.2.4)\n",
            "Requirement already satisfied: MarkupSafe>=0.9.2 in /usr/local/lib/python3.12/dist-packages (from Mako->alembic>=1.5.0->optuna) (3.0.3)\n",
            "Downloading optuna-4.5.0-py3-none-any.whl (400 kB)\n",
            "\u001b[2K   \u001b[90m━━━━━━━━━━━━━━━━━━━━━━━━━━━━━━━━━━━━━━━━\u001b[0m \u001b[32m400.9/400.9 kB\u001b[0m \u001b[31m25.9 MB/s\u001b[0m eta \u001b[36m0:00:00\u001b[0m\n",
            "\u001b[?25hDownloading colorlog-6.10.1-py3-none-any.whl (11 kB)\n",
            "Installing collected packages: colorlog, optuna\n",
            "Successfully installed colorlog-6.10.1 optuna-4.5.0\n"
          ]
        }
      ]
    },
    {
      "cell_type": "code",
      "source": [
        "import torchmetrics\n",
        "import optuna"
      ],
      "metadata": {
        "id": "ufxfhwmzA2KK"
      },
      "execution_count": 28,
      "outputs": []
    },
    {
      "cell_type": "code",
      "source": [
        "# Настроим устройство для вычислений\n",
        "DEVICE = torch.device(\"cuda\" if torch.cuda.is_available() else \"cpu\")"
      ],
      "metadata": {
        "id": "IOr-iQNV--Oh"
      },
      "execution_count": 29,
      "outputs": []
    },
    {
      "cell_type": "code",
      "source": [
        "from google.colab import drive\n",
        "drive.mount('/content/gdrive/', force_remount=True)\n",
        "\n",
        "DATA_ROOT = \"/content/gdrive/MyDrive/EYES/\""
      ],
      "metadata": {
        "colab": {
          "base_uri": "https://localhost:8080/"
        },
        "id": "5td0bVHY_wo-",
        "outputId": "3b0b84f6-c41d-4045-c28c-fbe66e17b55c"
      },
      "execution_count": 30,
      "outputs": [
        {
          "output_type": "stream",
          "name": "stdout",
          "text": [
            "Mounted at /content/gdrive/\n"
          ]
        }
      ]
    },
    {
      "cell_type": "code",
      "source": [
        "# Заданные параметры\n",
        "BATCH_SIZE = 32\n",
        "N_EPOCHS = 30\n",
        "TEST_TARGET_ACCURACY = 93.0  # Минимальная необходимая точность на тесте"
      ],
      "metadata": {
        "id": "jmNp8Ds2--TH"
      },
      "execution_count": 31,
      "outputs": []
    },
    {
      "cell_type": "code",
      "source": [
        "# Преобразования изображений\n",
        "transform = transforms.Compose([\n",
        "    transforms.Resize((224, 224)),  # Масштабируем изображения\n",
        "    transforms.ToTensor(),           # Преобразуем в тензор\n",
        "    transforms.Normalize(mean=[0.485, 0.456, 0.406], std=[0.229, 0.224, 0.225])  # Нормализуем цвета\n",
        "])\n"
      ],
      "metadata": {
        "id": "7HZUmvdF--WY"
      },
      "execution_count": 32,
      "outputs": []
    },
    {
      "cell_type": "code",
      "source": [
        "# Подготавливаем данные\n",
        "full_dataset = datasets.ImageFolder(root=DATA_ROOT, transform=transform)"
      ],
      "metadata": {
        "id": "fBgOhWaK--ZN"
      },
      "execution_count": 33,
      "outputs": []
    },
    {
      "cell_type": "code",
      "source": [
        "# Разделяем на train, valid и test\n",
        "train_idx, temp_idx = train_test_split(list(range(len(full_dataset))), test_size=0.2, random_state=42)\n",
        "valid_idx, test_idx = train_test_split(temp_idx, test_size=0.5, random_state=42)\n",
        "\n",
        "train_set = torch.utils.data.Subset(full_dataset, train_idx)\n",
        "valid_set = torch.utils.data.Subset(full_dataset, valid_idx)\n",
        "test_set = torch.utils.data.Subset(full_dataset, test_idx)"
      ],
      "metadata": {
        "id": "Gi4JLMop--cs"
      },
      "execution_count": 34,
      "outputs": []
    },
    {
      "cell_type": "code",
      "source": [
        "# Создаем loaders\n",
        "train_loader = DataLoader(train_set, batch_size=BATCH_SIZE, shuffle=True)\n",
        "valid_loader = DataLoader(valid_set, batch_size=BATCH_SIZE)\n",
        "test_loader = DataLoader(test_set, batch_size=BATCH_SIZE)"
      ],
      "metadata": {
        "id": "t-1_OI96_kcp"
      },
      "execution_count": 35,
      "outputs": []
    },
    {
      "cell_type": "code",
      "source": [
        "# Архитектура модели\n",
        "class DiabeticRetinopathyModel(nn.Module):\n",
        "    def __init__(self, input_shape, hidden_units, output_shape):\n",
        "        super(DiabeticRetinopathyModel, self).__init__()\n",
        "        self.flatten = nn.Flatten()\n",
        "        self.linear_layer_stack = nn.Sequential(\n",
        "            nn.Linear(input_shape, hidden_units),\n",
        "            nn.ReLU(),\n",
        "            nn.Linear(hidden_units, output_shape)\n",
        "        )\n",
        "\n",
        "    def forward(self, x):\n",
        "        x = self.flatten(x)\n",
        "        return self.linear_layer_stack(x)"
      ],
      "metadata": {
        "id": "mJQztlQv_kfk"
      },
      "execution_count": 36,
      "outputs": []
    },
    {
      "cell_type": "code",
      "source": [
        "# Вспомогательные функции\n",
        "def train_step(model, dataloader, loss_fn, optimizer, device):\n",
        "    size = len(dataloader.dataset)\n",
        "    model.train()\n",
        "    for batch, (X, y) in enumerate(dataloader):\n",
        "        X, y = X.to(device), y.to(device)\n",
        "        pred = model(X)\n",
        "        loss = loss_fn(pred, y)\n",
        "        optimizer.zero_grad()\n",
        "        loss.backward()\n",
        "        optimizer.step()\n",
        "        if batch % 10 == 0:\n",
        "            loss_value = loss.item()\n",
        "            current = batch * len(X)\n",
        "            print(f\"Loss: {loss_value:.4f} | Progress: {current}/{size}\")"
      ],
      "metadata": {
        "id": "xh7Xdc3s_kiF"
      },
      "execution_count": 37,
      "outputs": []
    },
    {
      "cell_type": "code",
      "source": [
        "def eval_step(model, dataloader, loss_fn, device):\n",
        "    size = len(dataloader.dataset)\n",
        "    num_batches = len(dataloader)\n",
        "    model.eval()\n",
        "    test_loss, correct = 0, 0\n",
        "    with torch.no_grad():\n",
        "        for X, y in dataloader:\n",
        "            X, y = X.to(device), y.to(device)\n",
        "            pred = model(X)\n",
        "            test_loss += loss_fn(pred, y).item()\n",
        "            correct += (pred.argmax(1) == y).type(torch.float).sum().item()\n",
        "    test_loss /= num_batches\n",
        "    correct /= size\n",
        "    return correct, test_loss"
      ],
      "metadata": {
        "id": "YGWYcYcD_6oX"
      },
      "execution_count": 38,
      "outputs": []
    },
    {
      "cell_type": "code",
      "source": [
        "# Основная функция обучения\n",
        "def train_and_evaluate(model, train_dl, valid_dl, epochs, loss_fn, optimizer, device):\n",
        "    results = {'train_loss': [], 'train_acc': [], 'valid_loss': [], 'valid_acc': []}\n",
        "    best_acc = float('-inf')\n",
        "    best_weights = None\n",
        "    for t in range(epochs):\n",
        "        print(f\"Epoch {t+1}\\n----------------------------\")\n",
        "        train_step(model, train_dl, loss_fn, optimizer, device)\n",
        "        train_acc, train_loss = eval_step(model, train_dl, loss_fn, device)\n",
        "        valid_acc, valid_loss = eval_step(model, valid_dl, loss_fn, device)\n",
        "        print(f\"Train Acc: {(100*train_acc):>0.1f}%, Valid Acc: {(100*valid_acc):>0.1f}%\\n\")\n",
        "        results['train_loss'].append(train_loss)\n",
        "        results['train_acc'].append(train_acc)\n",
        "        results['valid_loss'].append(valid_loss)\n",
        "        results['valid_acc'].append(valid_acc)\n",
        "        if valid_acc > best_acc:\n",
        "            best_acc = valid_acc\n",
        "            best_weights = model.state_dict()\n",
        "    return results, best_weights"
      ],
      "metadata": {
        "id": "SLw6A9s3_6rN"
      },
      "execution_count": 39,
      "outputs": []
    },
    {
      "cell_type": "code",
      "source": [
        "# Функция поиска гиперпараметров\n",
        "def objective(trial):\n",
        "    # Предлагаемые гиперпараметры\n",
        "    lr = trial.suggest_loguniform('lr', 1e-5, 1e-1)\n",
        "    units = trial.suggest_int('units', 64, 512)\n",
        "\n",
        "    # Создание модели\n",
        "    model = DiabeticRetinopathyModel(input_shape=224*224*3, hidden_units=units, output_shape=5).to(DEVICE)\n",
        "    loss_fn = nn.CrossEntropyLoss()\n",
        "    optimizer = torch.optim.Adam(model.parameters(), lr=lr)\n",
        "\n",
        "    # Обучение и проверка\n",
        "    results, _ = train_and_evaluate(model, train_loader, valid_loader, N_EPOCHS, loss_fn, optimizer, DEVICE)\n",
        "    valid_acc = results['valid_acc'][-1]\n",
        "    return valid_acc\n"
      ],
      "metadata": {
        "id": "XBOGuCf4_6t1"
      },
      "execution_count": 40,
      "outputs": []
    },
    {
      "cell_type": "code",
      "source": [
        "# Поиск наилучших гиперпараметров\n",
        "N_EPOCHS = 5\n",
        "study = optuna.create_study(direction='maximize')\n",
        "study.optimize(objective, n_trials=1)"
      ],
      "metadata": {
        "colab": {
          "base_uri": "https://localhost:8080/"
        },
        "id": "NBVTsuqD_klz",
        "outputId": "5856b508-25a0-4989-c729-cb804034cbab"
      },
      "execution_count": 43,
      "outputs": [
        {
          "output_type": "stream",
          "name": "stderr",
          "text": [
            "[I 2025-10-23 22:18:19,109] A new study created in memory with name: no-name-cfd00abb-432e-4bc0-a313-86f4c94d2df0\n",
            "/tmp/ipython-input-1044294083.py:4: FutureWarning: suggest_loguniform has been deprecated in v3.0.0. This feature will be removed in v6.0.0. See https://github.com/optuna/optuna/releases/tag/v3.0.0. Use suggest_float(..., log=True) instead.\n",
            "  lr = trial.suggest_loguniform('lr', 1e-5, 1e-1)\n"
          ]
        },
        {
          "output_type": "stream",
          "name": "stdout",
          "text": [
            "Epoch 1\n",
            "----------------------------\n",
            "Loss: 1.8601 | Progress: 0/5617\n",
            "Loss: 86.2546 | Progress: 320/5617\n",
            "Loss: 454.0627 | Progress: 640/5617\n",
            "Loss: 114.1312 | Progress: 960/5617\n",
            "Loss: 45.3113 | Progress: 1280/5617\n",
            "Loss: 89.2683 | Progress: 1600/5617\n",
            "Loss: 3.7051 | Progress: 1920/5617\n",
            "Loss: 3.0538 | Progress: 2240/5617\n",
            "Loss: 4.5475 | Progress: 2560/5617\n",
            "Loss: 1.1593 | Progress: 2880/5617\n",
            "Loss: 6.6497 | Progress: 3200/5617\n",
            "Loss: 7.8568 | Progress: 3520/5617\n",
            "Loss: 1.7017 | Progress: 3840/5617\n",
            "Loss: 6.0292 | Progress: 4160/5617\n",
            "Loss: 7.5037 | Progress: 4480/5617\n",
            "Loss: 1.9341 | Progress: 4800/5617\n",
            "Loss: 0.3692 | Progress: 5120/5617\n",
            "Loss: 0.7157 | Progress: 5440/5617\n",
            "Train Acc: 80.8%, Valid Acc: 76.9%\n",
            "\n",
            "Epoch 2\n",
            "----------------------------\n",
            "Loss: 1.1633 | Progress: 0/5617\n",
            "Loss: 0.5005 | Progress: 320/5617\n",
            "Loss: 1.0085 | Progress: 640/5617\n",
            "Loss: 0.5734 | Progress: 960/5617\n",
            "Loss: 0.4206 | Progress: 1280/5617\n",
            "Loss: 3.4334 | Progress: 1600/5617\n",
            "Loss: 0.5318 | Progress: 1920/5617\n",
            "Loss: 0.3165 | Progress: 2240/5617\n",
            "Loss: 0.4441 | Progress: 2560/5617\n",
            "Loss: 0.4217 | Progress: 2880/5617\n",
            "Loss: 0.8957 | Progress: 3200/5617\n",
            "Loss: 9.3461 | Progress: 3520/5617\n",
            "Loss: 0.5411 | Progress: 3840/5617\n",
            "Loss: 0.5519 | Progress: 4160/5617\n",
            "Loss: 0.3453 | Progress: 4480/5617\n",
            "Loss: 0.4293 | Progress: 4800/5617\n",
            "Loss: 0.5795 | Progress: 5120/5617\n",
            "Loss: 0.4958 | Progress: 5440/5617\n",
            "Train Acc: 81.3%, Valid Acc: 78.6%\n",
            "\n",
            "Epoch 3\n",
            "----------------------------\n",
            "Loss: 0.3040 | Progress: 0/5617\n",
            "Loss: 0.5416 | Progress: 320/5617\n",
            "Loss: 0.3599 | Progress: 640/5617\n",
            "Loss: 0.4328 | Progress: 960/5617\n",
            "Loss: 0.4219 | Progress: 1280/5617\n",
            "Loss: 0.3279 | Progress: 1600/5617\n",
            "Loss: 0.3389 | Progress: 1920/5617\n",
            "Loss: 0.3783 | Progress: 2240/5617\n",
            "Loss: 0.7621 | Progress: 2560/5617\n",
            "Loss: 0.3222 | Progress: 2880/5617\n",
            "Loss: 0.3967 | Progress: 3200/5617\n",
            "Loss: 0.5704 | Progress: 3520/5617\n",
            "Loss: 0.4020 | Progress: 3840/5617\n",
            "Loss: 0.5026 | Progress: 4160/5617\n",
            "Loss: 0.4454 | Progress: 4480/5617\n",
            "Loss: 0.6199 | Progress: 4800/5617\n",
            "Loss: 0.3142 | Progress: 5120/5617\n",
            "Loss: 0.4500 | Progress: 5440/5617\n",
            "Train Acc: 81.5%, Valid Acc: 78.6%\n",
            "\n",
            "Epoch 4\n",
            "----------------------------\n",
            "Loss: 0.5437 | Progress: 0/5617\n",
            "Loss: 0.5243 | Progress: 320/5617\n",
            "Loss: 0.4667 | Progress: 640/5617\n",
            "Loss: 3.3256 | Progress: 960/5617\n",
            "Loss: 0.4558 | Progress: 1280/5617\n",
            "Loss: 0.4448 | Progress: 1600/5617\n",
            "Loss: 0.3461 | Progress: 1920/5617\n",
            "Loss: 0.4535 | Progress: 2240/5617\n",
            "Loss: 0.5766 | Progress: 2560/5617\n",
            "Loss: 0.5703 | Progress: 2880/5617\n",
            "Loss: 0.5188 | Progress: 3200/5617\n",
            "Loss: 0.5049 | Progress: 3520/5617\n",
            "Loss: 0.4533 | Progress: 3840/5617\n",
            "Loss: 0.3728 | Progress: 4160/5617\n",
            "Loss: 6.8246 | Progress: 4480/5617\n",
            "Loss: 0.4206 | Progress: 4800/5617\n",
            "Loss: 0.5548 | Progress: 5120/5617\n",
            "Loss: 0.2731 | Progress: 5440/5617\n",
            "Train Acc: 81.5%, Valid Acc: 78.3%\n",
            "\n",
            "Epoch 5\n",
            "----------------------------\n",
            "Loss: 0.3903 | Progress: 0/5617\n",
            "Loss: 0.3640 | Progress: 320/5617\n",
            "Loss: 0.6073 | Progress: 640/5617\n",
            "Loss: 0.4179 | Progress: 960/5617\n",
            "Loss: 0.3694 | Progress: 1280/5617\n",
            "Loss: 0.6936 | Progress: 1600/5617\n",
            "Loss: 0.4402 | Progress: 1920/5617\n",
            "Loss: 1.0010 | Progress: 2240/5617\n",
            "Loss: 0.4977 | Progress: 2560/5617\n",
            "Loss: 0.4538 | Progress: 2880/5617\n",
            "Loss: 0.4512 | Progress: 3200/5617\n",
            "Loss: 0.4627 | Progress: 3520/5617\n",
            "Loss: 0.5074 | Progress: 3840/5617\n",
            "Loss: 0.4544 | Progress: 4160/5617\n",
            "Loss: 0.3525 | Progress: 4480/5617\n",
            "Loss: 0.3521 | Progress: 4800/5617\n",
            "Loss: 0.5399 | Progress: 5120/5617\n",
            "Loss: 0.5486 | Progress: 5440/5617\n"
          ]
        },
        {
          "output_type": "stream",
          "name": "stderr",
          "text": [
            "[I 2025-10-23 22:43:48,211] Trial 0 finished with value: 0.7863247863247863 and parameters: {'lr': 0.005555680078023373, 'units': 380}. Best is trial 0 with value: 0.7863247863247863.\n"
          ]
        },
        {
          "output_type": "stream",
          "name": "stdout",
          "text": [
            "Train Acc: 81.6%, Valid Acc: 78.6%\n",
            "\n"
          ]
        }
      ]
    },
    {
      "cell_type": "code",
      "source": [
        "# Лучшие параметры\n",
        "best_hyperparams = study.best_params\n",
        "print(f\"Best hyperparameters found:\\nLearning Rate: {best_hyperparams['lr']},\\nHidden Units: {best_hyperparams['units']}\")"
      ],
      "metadata": {
        "colab": {
          "base_uri": "https://localhost:8080/"
        },
        "id": "RQ7UfS5vAl06",
        "outputId": "ed8cba0d-3af8-4e1c-9c04-18edfd0a48f3"
      },
      "execution_count": 44,
      "outputs": [
        {
          "output_type": "stream",
          "name": "stdout",
          "text": [
            "Best hyperparameters found:\n",
            "Learning Rate: 0.005555680078023373,\n",
            "Hidden Units: 380\n"
          ]
        }
      ]
    },
    {
      "cell_type": "code",
      "source": [
        "# Обучение модели с лучшими параметрами\n",
        "final_model = DiabeticRetinopathyModel(input_shape=224*224*3, hidden_units=best_hyperparams['units'], output_shape=5).to(DEVICE)\n",
        "final_optimizer = torch.optim.Adam(final_model.parameters(), lr=best_hyperparams['lr'])\n",
        "final_results, _ = train_and_evaluate(final_model, train_loader, valid_loader, N_EPOCHS, nn.CrossEntropyLoss(), final_optimizer, DEVICE)"
      ],
      "metadata": {
        "colab": {
          "base_uri": "https://localhost:8080/"
        },
        "id": "dFbzwYl5Al4M",
        "outputId": "30df22d8-6a35-4b1c-af94-889649bb5875"
      },
      "execution_count": 45,
      "outputs": [
        {
          "output_type": "stream",
          "name": "stdout",
          "text": [
            "Epoch 1\n",
            "----------------------------\n",
            "Loss: 1.7840 | Progress: 0/5617\n",
            "Loss: 3703.1013 | Progress: 320/5617\n",
            "Loss: 602.2808 | Progress: 640/5617\n",
            "Loss: 118.1893 | Progress: 960/5617\n",
            "Loss: 33.7468 | Progress: 1280/5617\n",
            "Loss: 18.0976 | Progress: 1600/5617\n",
            "Loss: 31.6233 | Progress: 1920/5617\n",
            "Loss: 1.0080 | Progress: 2240/5617\n",
            "Loss: 0.5584 | Progress: 2560/5617\n",
            "Loss: 0.5347 | Progress: 2880/5617\n",
            "Loss: 0.7297 | Progress: 3200/5617\n",
            "Loss: 0.3733 | Progress: 3520/5617\n",
            "Loss: 0.7262 | Progress: 3840/5617\n",
            "Loss: 0.5339 | Progress: 4160/5617\n",
            "Loss: 0.4458 | Progress: 4480/5617\n",
            "Loss: 0.4759 | Progress: 4800/5617\n",
            "Loss: 0.6451 | Progress: 5120/5617\n",
            "Loss: 8.9009 | Progress: 5440/5617\n",
            "Train Acc: 81.5%, Valid Acc: 78.6%\n",
            "\n",
            "Epoch 2\n",
            "----------------------------\n",
            "Loss: 0.4561 | Progress: 0/5617\n",
            "Loss: 0.3789 | Progress: 320/5617\n",
            "Loss: 0.3921 | Progress: 640/5617\n",
            "Loss: 0.5579 | Progress: 960/5617\n",
            "Loss: 0.4713 | Progress: 1280/5617\n",
            "Loss: 0.5680 | Progress: 1600/5617\n",
            "Loss: 0.3899 | Progress: 1920/5617\n",
            "Loss: 0.6433 | Progress: 2240/5617\n",
            "Loss: 0.6199 | Progress: 2560/5617\n",
            "Loss: 0.5670 | Progress: 2880/5617\n",
            "Loss: 0.6205 | Progress: 3200/5617\n",
            "Loss: 0.4658 | Progress: 3520/5617\n",
            "Loss: 61.3217 | Progress: 3840/5617\n",
            "Loss: 0.5048 | Progress: 4160/5617\n",
            "Loss: 0.3286 | Progress: 4480/5617\n",
            "Loss: 43.0963 | Progress: 4800/5617\n",
            "Loss: 43.9316 | Progress: 5120/5617\n",
            "Loss: 0.4734 | Progress: 5440/5617\n",
            "Train Acc: 81.2%, Valid Acc: 78.2%\n",
            "\n",
            "Epoch 3\n",
            "----------------------------\n",
            "Loss: 0.6266 | Progress: 0/5617\n",
            "Loss: 1.5089 | Progress: 320/5617\n",
            "Loss: 0.5142 | Progress: 640/5617\n",
            "Loss: 0.7283 | Progress: 960/5617\n",
            "Loss: 0.4799 | Progress: 1280/5617\n",
            "Loss: 0.4954 | Progress: 1600/5617\n",
            "Loss: 0.5780 | Progress: 1920/5617\n",
            "Loss: 0.2863 | Progress: 2240/5617\n",
            "Loss: 0.5513 | Progress: 2560/5617\n",
            "Loss: 0.4487 | Progress: 2880/5617\n",
            "Loss: 0.4956 | Progress: 3200/5617\n",
            "Loss: 0.4720 | Progress: 3520/5617\n",
            "Loss: 0.4286 | Progress: 3840/5617\n",
            "Loss: 0.5720 | Progress: 4160/5617\n",
            "Loss: 0.5016 | Progress: 4480/5617\n",
            "Loss: 0.4319 | Progress: 4800/5617\n",
            "Loss: 0.5137 | Progress: 5120/5617\n",
            "Loss: 0.4651 | Progress: 5440/5617\n",
            "Train Acc: 81.5%, Valid Acc: 78.3%\n",
            "\n",
            "Epoch 4\n",
            "----------------------------\n",
            "Loss: 8.5153 | Progress: 0/5617\n",
            "Loss: 0.3408 | Progress: 320/5617\n",
            "Loss: 0.4373 | Progress: 640/5617\n",
            "Loss: 0.4609 | Progress: 960/5617\n",
            "Loss: 0.4080 | Progress: 1280/5617\n",
            "Loss: 0.4909 | Progress: 1600/5617\n",
            "Loss: 0.6843 | Progress: 1920/5617\n",
            "Loss: 0.5213 | Progress: 2240/5617\n",
            "Loss: 0.3112 | Progress: 2560/5617\n",
            "Loss: 0.3870 | Progress: 2880/5617\n",
            "Loss: 0.5490 | Progress: 3200/5617\n",
            "Loss: 0.4978 | Progress: 3520/5617\n",
            "Loss: 0.4327 | Progress: 3840/5617\n",
            "Loss: 0.4905 | Progress: 4160/5617\n",
            "Loss: 0.3964 | Progress: 4480/5617\n",
            "Loss: 0.3795 | Progress: 4800/5617\n",
            "Loss: 0.6256 | Progress: 5120/5617\n",
            "Loss: 0.4766 | Progress: 5440/5617\n",
            "Train Acc: 81.6%, Valid Acc: 78.6%\n",
            "\n",
            "Epoch 5\n",
            "----------------------------\n",
            "Loss: 0.1974 | Progress: 0/5617\n",
            "Loss: 0.5458 | Progress: 320/5617\n",
            "Loss: 0.3026 | Progress: 640/5617\n",
            "Loss: 0.5155 | Progress: 960/5617\n",
            "Loss: 0.4921 | Progress: 1280/5617\n",
            "Loss: 0.3968 | Progress: 1600/5617\n",
            "Loss: 0.4768 | Progress: 1920/5617\n",
            "Loss: 0.4885 | Progress: 2240/5617\n",
            "Loss: 0.5116 | Progress: 2560/5617\n",
            "Loss: 0.4145 | Progress: 2880/5617\n",
            "Loss: 0.5554 | Progress: 3200/5617\n",
            "Loss: 0.4856 | Progress: 3520/5617\n",
            "Loss: 0.4862 | Progress: 3840/5617\n",
            "Loss: 0.4774 | Progress: 4160/5617\n",
            "Loss: 0.2764 | Progress: 4480/5617\n",
            "Loss: 0.4872 | Progress: 4800/5617\n",
            "Loss: 0.4786 | Progress: 5120/5617\n",
            "Loss: 0.4520 | Progress: 5440/5617\n",
            "Train Acc: 80.6%, Valid Acc: 77.5%\n",
            "\n"
          ]
        }
      ]
    },
    {
      "cell_type": "code",
      "source": [
        "def detailed_eval_step(model, dataloader, loss_fn, device):\n",
        "    size = len(dataloader.dataset)\n",
        "    num_batches = len(dataloader)\n",
        "    model.eval()\n",
        "    test_loss, correct = 0, 0\n",
        "\n",
        "    with torch.no_grad():\n",
        "        for i, (X, y) in enumerate(dataloader):\n",
        "            X, y = X.to(device), y.to(device)\n",
        "            pred = model(X)\n",
        "            test_loss += loss_fn(pred, y).item()\n",
        "            correct += (pred.argmax(1) == y).type(torch.float).sum().item()\n",
        "\n",
        "            # Отдельный вывод на каждой итерации\n",
        "            acc = correct / ((i+1)*BATCH_SIZE)\n",
        "            print(f\"Batch {i+1}/{num_batches}: Correct: {correct:.0f}, Total: {min((i+1)*BATCH_SIZE, size)}, Accuracy: {acc*100:.2f}%\")\n",
        "\n",
        "    test_loss /= num_batches\n",
        "    correct /= size\n",
        "    return correct, test_loss"
      ],
      "metadata": {
        "id": "D_iPfNy8V1kr"
      },
      "execution_count": 49,
      "outputs": []
    },
    {
      "cell_type": "code",
      "source": [
        "# Тестирование модели\n",
        "test_acc, test_loss = detailed_eval_step(final_model, test_loader, nn.CrossEntropyLoss(), DEVICE)\n",
        "print(f\"Final Test Accuracy: {test_acc*100:.2f}%\")\n",
        "print(f\"Final Test Loss: {test_loss:.4f}\")"
      ],
      "metadata": {
        "colab": {
          "base_uri": "https://localhost:8080/"
        },
        "id": "etQtLElcAl7B",
        "outputId": "6e65397f-def3-4566-f4d6-7f96233ed611"
      },
      "execution_count": 51,
      "outputs": [
        {
          "output_type": "stream",
          "name": "stdout",
          "text": [
            "Batch 1/22: Correct: 28, Total: 32, Accuracy: 87.50%\n",
            "Batch 2/22: Correct: 57, Total: 64, Accuracy: 89.06%\n",
            "Batch 3/22: Correct: 83, Total: 96, Accuracy: 86.46%\n",
            "Batch 4/22: Correct: 107, Total: 128, Accuracy: 83.59%\n",
            "Batch 5/22: Correct: 130, Total: 160, Accuracy: 81.25%\n",
            "Batch 6/22: Correct: 151, Total: 192, Accuracy: 78.65%\n",
            "Batch 7/22: Correct: 179, Total: 224, Accuracy: 79.91%\n",
            "Batch 8/22: Correct: 205, Total: 256, Accuracy: 80.08%\n",
            "Batch 9/22: Correct: 228, Total: 288, Accuracy: 79.17%\n",
            "Batch 10/22: Correct: 256, Total: 320, Accuracy: 80.00%\n",
            "Batch 11/22: Correct: 280, Total: 352, Accuracy: 79.55%\n",
            "Batch 12/22: Correct: 308, Total: 384, Accuracy: 80.21%\n",
            "Batch 13/22: Correct: 334, Total: 416, Accuracy: 80.29%\n",
            "Batch 14/22: Correct: 362, Total: 448, Accuracy: 80.80%\n",
            "Batch 15/22: Correct: 390, Total: 480, Accuracy: 81.25%\n",
            "Batch 16/22: Correct: 413, Total: 512, Accuracy: 80.66%\n",
            "Batch 17/22: Correct: 437, Total: 544, Accuracy: 80.33%\n",
            "Batch 18/22: Correct: 466, Total: 576, Accuracy: 80.90%\n",
            "Batch 19/22: Correct: 495, Total: 608, Accuracy: 81.41%\n",
            "Batch 20/22: Correct: 521, Total: 640, Accuracy: 81.41%\n",
            "Batch 21/22: Correct: 546, Total: 672, Accuracy: 81.25%\n",
            "Batch 22/22: Correct: 575, Total: 703, Accuracy: 81.68%\n",
            "Final Test Accuracy: 81.79%\n",
            "Final Test Loss: 1.3619\n"
          ]
        }
      ]
    },
    {
      "cell_type": "code",
      "source": [
        "# Проверка достижения цели\n",
        "if test_acc >= TEST_TARGET_ACCURACY / 100:\n",
        "    print(\"Цель достигнута!\")\n",
        "else:\n",
        "    print(\"Цель не достигнута.\")"
      ],
      "metadata": {
        "colab": {
          "base_uri": "https://localhost:8080/"
        },
        "id": "FAsbAgj9ArOr",
        "outputId": "d6347d15-3e6c-46cc-f8e5-7d51bedf96cf"
      },
      "execution_count": 52,
      "outputs": [
        {
          "output_type": "stream",
          "name": "stdout",
          "text": [
            "Цель не достигнута.\n"
          ]
        }
      ]
    },
    {
      "cell_type": "code",
      "source": [
        "import copy\n",
        "from torchvision import transforms\n",
        "from torch.utils.data import SubsetRandomSampler"
      ],
      "metadata": {
        "id": "o5v_lrXaX2jG"
      },
      "execution_count": 53,
      "outputs": []
    },
    {
      "cell_type": "code",
      "source": [
        "# Преобразование для теста с небольшим уровнем случайных модификаций\n",
        "test_augment_transforms = transforms.Compose([\n",
        "    transforms.RandomRotation(degrees=10),\n",
        "    transforms.ColorJitter(brightness=0.1, contrast=0.1),  # Немного меняем яркость и контраст\n",
        "    transforms.ToTensor(),\n",
        "    transforms.Normalize(mean=[0.485, 0.456, 0.406], std=[0.229, 0.224, 0.225]),\n",
        "])"
      ],
      "metadata": {
        "id": "rZmT8qVYYDtF"
      },
      "execution_count": 55,
      "outputs": []
    },
    {
      "cell_type": "code",
      "source": [
        "# Массив для хранения результатов по различным итерациям\n",
        "accuracies = []\n",
        "losses = []"
      ],
      "metadata": {
        "id": "9w-NwK6-YGpb"
      },
      "execution_count": 56,
      "outputs": []
    },
    {
      "cell_type": "code",
      "source": [
        "# Количество попыток (увеличим длительность)\n",
        "ITERATIONS = 5  # Можете задать большее значение, чтобы замедлить выполнение\n",
        "\n",
        "for iter_num in range(ITERATIONS):\n",
        "    # Создаём временный тестовый датасет\n",
        "    temp_test_dataset = copy.deepcopy(test_set)\n",
        "    temp_test_dataset.transform = test_augment_transforms\n",
        "\n",
        "    # Меняем рандомную последовательность\n",
        "    indices = list(range(len(temp_test_dataset)))\n",
        "    np.random.shuffle(indices)\n",
        "    sampler = SubsetRandomSampler(indices)\n",
        "    temp_test_loader = DataLoader(temp_test_dataset, batch_size=32, sampler=sampler)\n",
        "\n",
        "    # Проверяем модель на новом наборе данных\n",
        "    test_acc, test_loss = detailed_eval_step(final_model, temp_test_loader, nn.CrossEntropyLoss(), DEVICE)\n",
        "    accuracies.append(test_acc)\n",
        "    losses.append(test_loss)\n",
        "    print(f\"Iteration {iter_num+1}: Final Test Accuracy: {test_acc*100:.2f}%, Loss: {test_loss:.4f}\")"
      ],
      "metadata": {
        "colab": {
          "base_uri": "https://localhost:8080/"
        },
        "id": "1SfykuchYIZN",
        "outputId": "de67422f-0183-463f-b580-bab340fa1c97"
      },
      "execution_count": 58,
      "outputs": [
        {
          "output_type": "stream",
          "name": "stdout",
          "text": [
            "Batch 1/22: Correct: 26, Total: 32, Accuracy: 81.25%\n",
            "Batch 2/22: Correct: 52, Total: 64, Accuracy: 81.25%\n",
            "Batch 3/22: Correct: 79, Total: 96, Accuracy: 82.29%\n",
            "Batch 4/22: Correct: 106, Total: 128, Accuracy: 82.81%\n",
            "Batch 5/22: Correct: 131, Total: 160, Accuracy: 81.88%\n",
            "Batch 6/22: Correct: 159, Total: 192, Accuracy: 82.81%\n",
            "Batch 7/22: Correct: 186, Total: 224, Accuracy: 83.04%\n",
            "Batch 8/22: Correct: 211, Total: 256, Accuracy: 82.42%\n",
            "Batch 9/22: Correct: 234, Total: 288, Accuracy: 81.25%\n",
            "Batch 10/22: Correct: 260, Total: 320, Accuracy: 81.25%\n",
            "Batch 11/22: Correct: 285, Total: 352, Accuracy: 80.97%\n",
            "Batch 12/22: Correct: 316, Total: 384, Accuracy: 82.29%\n",
            "Batch 13/22: Correct: 340, Total: 416, Accuracy: 81.73%\n",
            "Batch 14/22: Correct: 367, Total: 448, Accuracy: 81.92%\n",
            "Batch 15/22: Correct: 392, Total: 480, Accuracy: 81.67%\n",
            "Batch 16/22: Correct: 422, Total: 512, Accuracy: 82.42%\n",
            "Batch 17/22: Correct: 451, Total: 544, Accuracy: 82.90%\n",
            "Batch 18/22: Correct: 478, Total: 576, Accuracy: 82.99%\n",
            "Batch 19/22: Correct: 503, Total: 608, Accuracy: 82.73%\n",
            "Batch 20/22: Correct: 525, Total: 640, Accuracy: 82.03%\n",
            "Batch 21/22: Correct: 552, Total: 672, Accuracy: 82.14%\n",
            "Batch 22/22: Correct: 575, Total: 703, Accuracy: 81.68%\n",
            "Iteration 1: Final Test Accuracy: 81.79%, Loss: 1.3620\n",
            "Batch 1/22: Correct: 23, Total: 32, Accuracy: 71.88%\n",
            "Batch 2/22: Correct: 47, Total: 64, Accuracy: 73.44%\n",
            "Batch 3/22: Correct: 73, Total: 96, Accuracy: 76.04%\n",
            "Batch 4/22: Correct: 99, Total: 128, Accuracy: 77.34%\n",
            "Batch 5/22: Correct: 124, Total: 160, Accuracy: 77.50%\n",
            "Batch 6/22: Correct: 152, Total: 192, Accuracy: 79.17%\n",
            "Batch 7/22: Correct: 179, Total: 224, Accuracy: 79.91%\n",
            "Batch 8/22: Correct: 204, Total: 256, Accuracy: 79.69%\n",
            "Batch 9/22: Correct: 233, Total: 288, Accuracy: 80.90%\n",
            "Batch 10/22: Correct: 262, Total: 320, Accuracy: 81.88%\n",
            "Batch 11/22: Correct: 287, Total: 352, Accuracy: 81.53%\n",
            "Batch 12/22: Correct: 315, Total: 384, Accuracy: 82.03%\n",
            "Batch 13/22: Correct: 344, Total: 416, Accuracy: 82.69%\n",
            "Batch 14/22: Correct: 368, Total: 448, Accuracy: 82.14%\n",
            "Batch 15/22: Correct: 397, Total: 480, Accuracy: 82.71%\n",
            "Batch 16/22: Correct: 419, Total: 512, Accuracy: 81.84%\n",
            "Batch 17/22: Correct: 446, Total: 544, Accuracy: 81.99%\n",
            "Batch 18/22: Correct: 473, Total: 576, Accuracy: 82.12%\n",
            "Batch 19/22: Correct: 499, Total: 608, Accuracy: 82.07%\n",
            "Batch 20/22: Correct: 528, Total: 640, Accuracy: 82.50%\n",
            "Batch 21/22: Correct: 550, Total: 672, Accuracy: 81.85%\n",
            "Batch 22/22: Correct: 575, Total: 703, Accuracy: 81.68%\n",
            "Iteration 2: Final Test Accuracy: 81.79%, Loss: 1.3620\n",
            "Batch 1/22: Correct: 31, Total: 32, Accuracy: 96.88%\n",
            "Batch 2/22: Correct: 56, Total: 64, Accuracy: 87.50%\n",
            "Batch 3/22: Correct: 77, Total: 96, Accuracy: 80.21%\n",
            "Batch 4/22: Correct: 101, Total: 128, Accuracy: 78.91%\n",
            "Batch 5/22: Correct: 128, Total: 160, Accuracy: 80.00%\n",
            "Batch 6/22: Correct: 154, Total: 192, Accuracy: 80.21%\n",
            "Batch 7/22: Correct: 181, Total: 224, Accuracy: 80.80%\n",
            "Batch 8/22: Correct: 209, Total: 256, Accuracy: 81.64%\n",
            "Batch 9/22: Correct: 233, Total: 288, Accuracy: 80.90%\n",
            "Batch 10/22: Correct: 260, Total: 320, Accuracy: 81.25%\n",
            "Batch 11/22: Correct: 284, Total: 352, Accuracy: 80.68%\n",
            "Batch 12/22: Correct: 309, Total: 384, Accuracy: 80.47%\n",
            "Batch 13/22: Correct: 335, Total: 416, Accuracy: 80.53%\n",
            "Batch 14/22: Correct: 364, Total: 448, Accuracy: 81.25%\n",
            "Batch 15/22: Correct: 392, Total: 480, Accuracy: 81.67%\n",
            "Batch 16/22: Correct: 417, Total: 512, Accuracy: 81.45%\n",
            "Batch 17/22: Correct: 445, Total: 544, Accuracy: 81.80%\n",
            "Batch 18/22: Correct: 471, Total: 576, Accuracy: 81.77%\n",
            "Batch 19/22: Correct: 500, Total: 608, Accuracy: 82.24%\n",
            "Batch 20/22: Correct: 525, Total: 640, Accuracy: 82.03%\n",
            "Batch 21/22: Correct: 550, Total: 672, Accuracy: 81.85%\n",
            "Batch 22/22: Correct: 575, Total: 703, Accuracy: 81.68%\n",
            "Iteration 3: Final Test Accuracy: 81.79%, Loss: 1.3620\n",
            "Batch 1/22: Correct: 24, Total: 32, Accuracy: 75.00%\n",
            "Batch 2/22: Correct: 51, Total: 64, Accuracy: 79.69%\n",
            "Batch 3/22: Correct: 78, Total: 96, Accuracy: 81.25%\n",
            "Batch 4/22: Correct: 108, Total: 128, Accuracy: 84.38%\n",
            "Batch 5/22: Correct: 130, Total: 160, Accuracy: 81.25%\n",
            "Batch 6/22: Correct: 155, Total: 192, Accuracy: 80.73%\n",
            "Batch 7/22: Correct: 183, Total: 224, Accuracy: 81.70%\n",
            "Batch 8/22: Correct: 209, Total: 256, Accuracy: 81.64%\n",
            "Batch 9/22: Correct: 234, Total: 288, Accuracy: 81.25%\n",
            "Batch 10/22: Correct: 260, Total: 320, Accuracy: 81.25%\n",
            "Batch 11/22: Correct: 290, Total: 352, Accuracy: 82.39%\n",
            "Batch 12/22: Correct: 313, Total: 384, Accuracy: 81.51%\n",
            "Batch 13/22: Correct: 341, Total: 416, Accuracy: 81.97%\n",
            "Batch 14/22: Correct: 369, Total: 448, Accuracy: 82.37%\n",
            "Batch 15/22: Correct: 392, Total: 480, Accuracy: 81.67%\n",
            "Batch 16/22: Correct: 419, Total: 512, Accuracy: 81.84%\n",
            "Batch 17/22: Correct: 446, Total: 544, Accuracy: 81.99%\n",
            "Batch 18/22: Correct: 467, Total: 576, Accuracy: 81.08%\n",
            "Batch 19/22: Correct: 494, Total: 608, Accuracy: 81.25%\n",
            "Batch 20/22: Correct: 520, Total: 640, Accuracy: 81.25%\n",
            "Batch 21/22: Correct: 545, Total: 672, Accuracy: 81.10%\n",
            "Batch 22/22: Correct: 575, Total: 703, Accuracy: 81.68%\n",
            "Iteration 4: Final Test Accuracy: 81.79%, Loss: 1.3619\n",
            "Batch 1/22: Correct: 27, Total: 32, Accuracy: 84.38%\n",
            "Batch 2/22: Correct: 53, Total: 64, Accuracy: 82.81%\n",
            "Batch 3/22: Correct: 80, Total: 96, Accuracy: 83.33%\n",
            "Batch 4/22: Correct: 111, Total: 128, Accuracy: 86.72%\n",
            "Batch 5/22: Correct: 137, Total: 160, Accuracy: 85.62%\n",
            "Batch 6/22: Correct: 164, Total: 192, Accuracy: 85.42%\n",
            "Batch 7/22: Correct: 190, Total: 224, Accuracy: 84.82%\n",
            "Batch 8/22: Correct: 215, Total: 256, Accuracy: 83.98%\n",
            "Batch 9/22: Correct: 243, Total: 288, Accuracy: 84.38%\n",
            "Batch 10/22: Correct: 270, Total: 320, Accuracy: 84.38%\n",
            "Batch 11/22: Correct: 299, Total: 352, Accuracy: 84.94%\n",
            "Batch 12/22: Correct: 328, Total: 384, Accuracy: 85.42%\n",
            "Batch 13/22: Correct: 351, Total: 416, Accuracy: 84.38%\n",
            "Batch 14/22: Correct: 379, Total: 448, Accuracy: 84.60%\n",
            "Batch 15/22: Correct: 403, Total: 480, Accuracy: 83.96%\n",
            "Batch 16/22: Correct: 429, Total: 512, Accuracy: 83.79%\n",
            "Batch 17/22: Correct: 450, Total: 544, Accuracy: 82.72%\n",
            "Batch 18/22: Correct: 474, Total: 576, Accuracy: 82.29%\n",
            "Batch 19/22: Correct: 502, Total: 608, Accuracy: 82.57%\n",
            "Batch 20/22: Correct: 530, Total: 640, Accuracy: 82.81%\n",
            "Batch 21/22: Correct: 549, Total: 672, Accuracy: 81.70%\n",
            "Batch 22/22: Correct: 575, Total: 703, Accuracy: 81.68%\n",
            "Iteration 5: Final Test Accuracy: 81.79%, Loss: 1.3620\n"
          ]
        }
      ]
    },
    {
      "cell_type": "code",
      "source": [
        "# Берём среднее значение по итогам всех итераций\n",
        "mean_accuracy = np.mean(accuracies)\n",
        "mean_loss = np.mean(losses)\n",
        "\n",
        "print(f\"Average Test Accuracy: {mean_accuracy*100:.2f}%\")\n",
        "print(f\"Average Test Loss: {mean_loss:.4f}\")"
      ],
      "metadata": {
        "colab": {
          "base_uri": "https://localhost:8080/"
        },
        "id": "GIYDDqGXYpU0",
        "outputId": "d4efe77b-34b7-4e8b-8844-ea40352de2f2"
      },
      "execution_count": 60,
      "outputs": [
        {
          "output_type": "stream",
          "name": "stdout",
          "text": [
            "Average Test Accuracy: 81.79%\n",
            "Average Test Loss: 1.3620\n"
          ]
        }
      ]
    }
  ]
}